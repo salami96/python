{
  "nbformat": 4,
  "nbformat_minor": 0,
  "metadata": {
    "colab": {
      "name": "projeto1.ipynb",
      "provenance": [],
      "mount_file_id": "1YauHYJGKqOGavBxyTW6dh61cJ8dCjAH-",
      "authorship_tag": "ABX9TyNugHv6zCQsLjDEejYbf0z2",
      "include_colab_link": true
    },
    "kernelspec": {
      "name": "python3",
      "display_name": "Python 3"
    }
  },
  "cells": [
    {
      "cell_type": "markdown",
      "metadata": {
        "id": "view-in-github",
        "colab_type": "text"
      },
      "source": [
        "<a href=\"https://colab.research.google.com/github/salami96/python/blob/main/projeto1.ipynb\" target=\"_parent\"><img src=\"https://colab.research.google.com/assets/colab-badge.svg\" alt=\"Open In Colab\"/></a>"
      ]
    },
    {
      "cell_type": "markdown",
      "metadata": {
        "id": "fYMEroHXAQjq"
      },
      "source": [
        "# Desafio:\r\n",
        "\r\n",
        "Você faz parte da equipe de Analytics de uma grande marca de vestuário com mais de 25 lojas espalhadas em Shoppings de todo o Brasil.\r\n",
        "\r\n",
        "Toda semana você precisa enviar para a diretoria um ranking atualizado com as 25 lojas contendo 3 informações:\r\n",
        "- Faturamento de cada Loja\r\n",
        "- Quantidade de Produtos Vendidos de cada Loja\r\n",
        "- Ticket Médio dos Produto de cada Loja\r\n",
        "\r\n",
        "Além disso, cada loja tem 1 gerente que precisa receber o resumo das informações da loja dele. Por isso, cada gerente deve receber no e-mail:\r\n",
        "- Faturamento da sua loja\r\n",
        "- Quantidade de Produtos Vendidos da sua loja\r\n",
        "- Ticket Médio dos Produto da sua Loja\r\n",
        "\r\n",
        "Esse relatório é sempre enviado como um resumo de todos os dados disponíveis no ano."
      ]
    },
    {
      "cell_type": "markdown",
      "metadata": {
        "id": "gYz5d8HyA4II"
      },
      "source": [
        "Passo a passo de construção do código:\r\n",
        "\r\n",
        "- Passo 1: Importar arquivo XLSX\r\n",
        "- Passo 2: Calcular o faturamento de cada loja\r\n",
        "- Passo 3: Calcular a quant. de produtos vendidos de cada loja\r\n",
        "- Passo 4: Calcular ticket médio dos produtos de cada loja\r\n",
        "- Passo 5: Enviar e-mail para diretoria\r\n",
        "- Passo 6: Enviar e-mail para cada loja"
      ]
    },
    {
      "cell_type": "markdown",
      "metadata": {
        "id": "2LaVfgtBB_Qh"
      },
      "source": [
        "Passo 1: Importar base de dados"
      ]
    },
    {
      "cell_type": "code",
      "metadata": {
        "id": "c29Edgr39f1i"
      },
      "source": [
        "import pandas as pd\r\n",
        "\r\n",
        "tabela_vendas = pd.read_excel('/content/drive/MyDrive/Colab Notebooks/Vendas.xlsx')\r\n",
        "display(tabela_vendas)"
      ],
      "execution_count": null,
      "outputs": []
    },
    {
      "cell_type": "markdown",
      "metadata": {
        "id": "_MpI4O5SCMWA"
      },
      "source": [
        "Passo 2: Calcular faturamento de cada loja"
      ]
    },
    {
      "cell_type": "code",
      "metadata": {
        "id": "_sCGLkPnCUy-"
      },
      "source": [
        "tabela_faturamento = tabela_vendas[['ID Loja','Valor Final']].groupby('ID Loja').sum()\r\n",
        "tabela_faturamento = tabela_faturamento.sort_values(by = 'Valor Final', ascending = False)\r\n",
        "\r\n",
        "display(tabela_faturamento)"
      ],
      "execution_count": null,
      "outputs": []
    },
    {
      "cell_type": "markdown",
      "metadata": {
        "id": "tU3387WQGTzN"
      },
      "source": [
        "Passo 3: Quantidade de Produtos vendido em cada loja"
      ]
    },
    {
      "cell_type": "code",
      "metadata": {
        "id": "stvJQenYGZYF"
      },
      "source": [
        "tabela_quant = tabela_vendas[['ID Loja','Quantidade']].groupby('ID Loja').sum()\r\n",
        "tabela_quant = tabela_quant.sort_values(by = 'Quantidade', ascending = False)\r\n",
        "\r\n",
        "display(tabela_quant)"
      ],
      "execution_count": null,
      "outputs": []
    },
    {
      "cell_type": "markdown",
      "metadata": {
        "id": "K_DSlJnGG7ic"
      },
      "source": [
        "Passo 4: Ticket médio dos produtos de cada loja"
      ]
    },
    {
      "cell_type": "code",
      "metadata": {
        "id": "R7mLIdg4HEuB"
      },
      "source": [
        "tabela_ticket = (tabela_faturamento['Valor Final'] / tabela_quant['Quantidade']).to_frame('Ticket Médio')\r\n",
        "tabela_ticket = tabela_ticket.sort_values(by = 'Ticket Médio', ascending = False)\r\n",
        "\r\n",
        "display(tabela_ticket)"
      ],
      "execution_count": null,
      "outputs": []
    },
    {
      "cell_type": "markdown",
      "metadata": {
        "id": "oSZFBZo9Jmy5"
      },
      "source": [
        "Função de enviar e-mail:"
      ]
    },
    {
      "cell_type": "code",
      "metadata": {
        "id": "UyBA3t7tJqpo"
      },
      "source": [
        "def enviar_email(nome_da_loja, tabela):\r\n",
        "  import smtplib\r\n",
        "  import email.message\r\n",
        "\r\n",
        "  server = smtplib.SMTP('smtp.gmail.com:587')  \r\n",
        "  corpo_email = f'''\r\n",
        "  <p>Prezados,</p>\r\n",
        "  <p>Segue relatório de vendas</p>\r\n",
        "  <table>\r\n",
        "  {tabela.to_html()}\r\n",
        "  </table>\r\n",
        "  <p>Qualquer dúvida estou a disposição</p>\r\n",
        "  '''\r\n",
        "    \r\n",
        "  msg = email.message.Message()\r\n",
        "  msg['Subject'] = f'Relatório de Vendas - {nome_da_loja}'\r\n",
        "    \r\n",
        "  # Fazer antes (apenas na 1ª vez): Ativar Aplicativos não Seguros.\r\n",
        "  # Gerenciar Conta Google -> Segurança -> Aplicativos não Seguros -> Habilitar\r\n",
        "  # Caso mesmo assim dê o erro: smtplib.SMTPAuthenticationError: (534,\r\n",
        "  # Você faz o login no seu e-mail e depois entra em: https://accounts.google.com/DisplayUnlockCaptcha\r\n",
        "  msg['From'] = 'gabriel.zanatto2@gmail.com'\r\n",
        "  msg['To'] = 'gabriel.zanatto2@gmail.com'\r\n",
        "  password = \"salami1996\"\r\n",
        "  msg.add_header('Content-Type', 'text/html')\r\n",
        "  msg.set_payload(corpo_email)\r\n",
        "    \r\n",
        "  s = smtplib.SMTP('smtp.gmail.com: 587')\r\n",
        "  s.starttls()\r\n",
        "  # Login Credentials for sending the mail\r\n",
        "  s.login(msg['From'], password)\r\n",
        "  s.sendmail(msg['From'], [msg['To']], msg.as_string().encode('utf-8'))\r\n",
        "  print('Email enviado')"
      ],
      "execution_count": null,
      "outputs": []
    },
    {
      "cell_type": "markdown",
      "metadata": {
        "id": "sWVnh1dlJVAs"
      },
      "source": [
        "Passo 5: Enviar e-mail para diretoria"
      ]
    },
    {
      "cell_type": "code",
      "metadata": {
        "colab": {
          "base_uri": "https://localhost:8080/"
        },
        "id": "ZCEotvBIJbNN",
        "outputId": "ff0e809f-b5e4-4238-a543-2a8241040cb1"
      },
      "source": [
        "tabela_completa = tabela_faturamento.join(tabela_quant).join(tabela_ticket)\r\n",
        "enviar_email('Diretoria', tabela_completa)"
      ],
      "execution_count": null,
      "outputs": [
        {
          "output_type": "stream",
          "text": [
            "Email enviado\n"
          ],
          "name": "stdout"
        }
      ]
    },
    {
      "cell_type": "markdown",
      "metadata": {
        "id": "XUpvbiJ_RqRd"
      },
      "source": [
        "Passo 6: Enviar e-mail para cada loja"
      ]
    },
    {
      "cell_type": "code",
      "metadata": {
        "id": "X7mWNi1sRvKh"
      },
      "source": [
        "lista_lojas = tabela_vendas['ID Loja'].unique()\r\n",
        "\r\n",
        "for loja in lista_lojas:\r\n",
        "  tabela_loja = tabela_vendas.loc[tabela_vendas['ID Loja'] == loja,['ID Loja', 'Quantidade', 'Valor Final']]\r\n",
        "  tabela_loja = tabela_loja.groupby('ID Loja').sum()\r\n",
        "  tabela_loja['Ticket Médio'] = (tabela_loja['Valor Final'] / tabela_loja['Quantidade'])\r\n",
        "  enviar_email(loja, tabela_loja)"
      ],
      "execution_count": null,
      "outputs": []
    }
  ]
}