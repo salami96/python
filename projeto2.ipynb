{
  "nbformat": 4,
  "nbformat_minor": 0,
  "metadata": {
    "colab": {
      "name": "projeto2.ipynb",
      "provenance": [],
      "collapsed_sections": [],
      "mount_file_id": "19-apbJQIFeMnmDz-J5k4JNvaQG1NzFQh",
      "authorship_tag": "ABX9TyOHYmeLC2fOKXNaAXBAByhu",
      "include_colab_link": true
    },
    "kernelspec": {
      "name": "python3",
      "display_name": "Python 3"
    }
  },
  "cells": [
    {
      "cell_type": "markdown",
      "metadata": {
        "id": "view-in-github",
        "colab_type": "text"
      },
      "source": [
        "<a href=\"https://colab.research.google.com/github/salami96/python/blob/main/projeto2.ipynb\" target=\"_parent\"><img src=\"https://colab.research.google.com/assets/colab-badge.svg\" alt=\"Open In Colab\"/></a>"
      ]
    },
    {
      "cell_type": "markdown",
      "metadata": {
        "id": "Oz2Snw-ily_l"
      },
      "source": [
        "# Desafio: \r\n",
        "\r\n",
        "Você trabalha em uma grande empresa de Cartão de Crédito e o diretor da empresa percebeu que o número de clientes que cancelam seus cartões tem aumentado significativamente, causando prejuízos enormes para a empresa\r\n",
        "\r\n",
        "O que fazer para evitar isso? Como saber as pessoas que têm maior tendência a cancelar o cartão?\r\n",
        "\r\n",
        "# O que temos:\r\n",
        "\r\n",
        "Temos 1 base de dados com informações dos clientes, tanto clientes atuais quanto clientes que cancelaram o cartão\r\n",
        "\r\n",
        "Download da Base de Dados: https://drive.google.com/file/d/1c0F7BDwvOZ9NnIj3tUANuvmp_jRYsh31/view?usp=sharing\r\n",
        "\r\n",
        "Referência: https://www.kaggle.com/sakshigoyal7/credit-card-customers"
      ]
    },
    {
      "cell_type": "markdown",
      "metadata": {
        "id": "j2lHUrQamNsd"
      },
      "source": [
        "- Passo 1: Importar base de dados\r\n",
        "- Passo 2: Tratar base de dados\r\n",
        "  - Excluir/Corrigir linha e colunas vazias\r\n",
        "  - Ajeitar as colunas importadas\r\n",
        "  - Excluir conulas inuteis \r\n",
        "- Passo 3: Analisar os dados\r\n",
        " - Queremos descobrir os principais motivos de cancelamento do cartão"
      ]
    },
    {
      "cell_type": "markdown",
      "metadata": {
        "id": "l5IKE9Wwm68U"
      },
      "source": [
        " - Passo 1: Importar base de dados"
      ]
    },
    {
      "cell_type": "code",
      "metadata": {
        "id": "94W9O5GplOGb"
      },
      "source": [
        "import pandas as pd\r\n",
        "\r\n",
        "tabela_clientes = pd.read_csv(r'/content/drive/MyDrive/Colab Notebooks/ClientesBanco.csv', encoding = 'latin1')\r\n",
        "tabela_clientes = tabela_clientes.drop('CLIENTNUM', axis= 1)\r\n",
        "display(tabela_clientes)\r\n"
      ],
      "execution_count": null,
      "outputs": []
    },
    {
      "cell_type": "markdown",
      "metadata": {
        "id": "UEOtAlsxlwnc"
      },
      "source": [
        "- Passo 2: Tratar base de dados"
      ]
    },
    {
      "cell_type": "code",
      "metadata": {
        "id": "CXXRo34gpWZM"
      },
      "source": [
        "tabela_clientes = tabela_clientes.dropna() #Excluir linha com valor nulo\r\n",
        "display(tabela_clientes.info()) #Pegar info da tabela\r\n",
        "display(tabela_clientes.describe()) #Pegar medias min e max da tabela\r\n"
      ],
      "execution_count": null,
      "outputs": []
    },
    {
      "cell_type": "markdown",
      "metadata": {
        "id": "sEHydM1jrPwD"
      },
      "source": [
        "- Passo 3: Analisar os dados\r\n",
        "  - Queresmos descobrir o moivo dos cancelamentos"
      ]
    },
    {
      "cell_type": "code",
      "metadata": {
        "id": "BtnaUoQqrmIj"
      },
      "source": [
        "display(tabela_clientes['Categoria'].value_counts())\r\n",
        "display(tabela_clientes['Categoria'].value_counts(normalize = True))"
      ],
      "execution_count": null,
      "outputs": []
    },
    {
      "cell_type": "markdown",
      "metadata": {
        "id": "tXVvyZ8htQZV"
      },
      "source": [
        "Seu objetivo: Analisar o 80/20 - Regra de Pareto\r\n",
        "\r\n",
        "Olhar todas as caracteristicas dos cliente e descobrir os PRINCIPAIS MOTIVO de cancelamento"
      ]
    },
    {
      "cell_type": "markdown",
      "metadata": {
        "id": "bn4fkviMt7R0"
      },
      "source": [
        " # Como criar graficos\r\n",
        "\r\n",
        " - criar a figura\r\n",
        " - exebir a figura\r\n",
        "\r\n",
        " https://plotly.com/python/histograms/\r\n",
        "\r\n"
      ]
    },
    {
      "cell_type": "code",
      "metadata": {
        "id": "BM9G1KQXtlXj"
      },
      "source": [
        "import plotly.express as px\r\n",
        "\r\n",
        "for coluna in tabela_clientes:\r\n",
        "  fig = px.histogram(tabela_clientes, x = coluna, color = 'Categoria')\r\n",
        "  fig.show();"
      ],
      "execution_count": null,
      "outputs": []
    },
    {
      "cell_type": "markdown",
      "metadata": {
        "id": "aImYsiP9xuJE"
      },
      "source": [
        "# Conclusões dos gráficos\r\n",
        "\r\n",
        "1. O gráfico Categoria do Cartão - Quase todos que cancelaram são da Categoria Blue\r\n",
        "2. O gráfico de Contatos - Demostra que quanto mais contatos com a empresa, maior a chance de cancelamento\r\n",
        "3. O gráfico de limite utilizado, indica que quanto menos uso do cartão maior chance de cancelamento\r\n",
        "4. Com mais de 80 transações / ano o cliente não cancela mais o cartão\r\n",
        "5. Com menos de 60 transações / ano o cliente tende a cancelar cartão\r\n",
        "6. O mesmo da taxa de utilização do cartão\r\n",
        "7. Valores de transação maior que 3k, diminui bastante os cancelamentos\r\n",
        "\r\n",
        "\r\n"
      ]
    }
  ]
}